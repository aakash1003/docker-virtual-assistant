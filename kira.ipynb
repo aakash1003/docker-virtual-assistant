{
 "cells": [
  {
   "cell_type": "code",
   "execution_count": 12,
   "metadata": {},
   "outputs": [],
   "source": [
    "import pyttsx3\n",
    "import pyaudio\n",
    "import datetime\n",
    "import speech_recognition as sr\n",
    "import wikipedia\n",
    "import os\n",
    "import smtplib\n",
    "import webbrowser"
   ]
  },
  {
   "cell_type": "code",
   "execution_count": 13,
   "metadata": {},
   "outputs": [],
   "source": [
    "engine = pyttsx3.init('sapi5')"
   ]
  },
  {
   "cell_type": "code",
   "execution_count": 14,
   "metadata": {},
   "outputs": [],
   "source": [
    "voices = engine.getProperty(\"voices\")"
   ]
  },
  {
   "cell_type": "code",
   "execution_count": 15,
   "metadata": {},
   "outputs": [
    {
     "name": "stdout",
     "output_type": "stream",
     "text": [
      "HKEY_LOCAL_MACHINE\\SOFTWARE\\Microsoft\\Speech\\Voices\\Tokens\\TTS_MS_EN-US_ZIRA_11.0\n"
     ]
    }
   ],
   "source": [
    "print(voices[1].id)"
   ]
  },
  {
   "cell_type": "code",
   "execution_count": 16,
   "metadata": {},
   "outputs": [],
   "source": [
    "engine.setProperty('voice',voices[1].id)"
   ]
  },
  {
   "cell_type": "code",
   "execution_count": 17,
   "metadata": {},
   "outputs": [],
   "source": [
    "def speak(audio):\n",
    "    engine.say(audio)\n",
    "    engine.runAndWait()"
   ]
  },
  {
   "cell_type": "code",
   "execution_count": 18,
   "metadata": {},
   "outputs": [],
   "source": [
    "def wishMe():\n",
    "    hour = int(datetime.datetime.now().hour)\n",
    "    if hour>=0 and hour<12:\n",
    "        speak(\"Good Morning!\")\n",
    "    elif hour>=12 and hour<18:\n",
    "        speak(\"Good Afternoon!\")\n",
    "    else:\n",
    "        speak(\"Good Evening!\")\n",
    "        \n",
    "    speak(\"Welcome to AI Virtual Assistant!\")\n",
    "    speak(\"My name is kira. How may I help you\")"
   ]
  },
  {
   "cell_type": "code",
   "execution_count": 19,
   "metadata": {},
   "outputs": [],
   "source": [
    "def takeCommand():\n",
    "    #It takes microphone  input from the user and returns string output\n",
    "    \n",
    "    rec = sr.Recognizer()\n",
    "    with sr.Microphone() as source:\n",
    "        print(\"Listening...\")\n",
    "        rec.pause_threshold = 1\n",
    "        rec.adjust_for_ambient_noise(source,duration=1)\n",
    "        audio = rec.listen(source)\n",
    "    \n",
    "    try:\n",
    "        print(\"Recognizing...\")\n",
    "        query = rec.recognize_google(audio)\n",
    "        print(query)\n",
    "        \n",
    "    except Exception as e:\n",
    "        print(\"Say that again please...\")\n",
    "        return \"None\"\n",
    "    \n",
    "    return query"
   ]
  },
  {
   "cell_type": "code",
   "execution_count": 20,
   "metadata": {},
   "outputs": [],
   "source": [
    "def sendEmail(to, content):\n",
    "    server = smtplib.SMTP('smtp.gmail.com',587)\n",
    "    server.ehlo()\n",
    "    server.starttls()\n",
    "    server.login('ansusharma12345@gmail.com', '8426986559')\n",
    "    server.sendmail('ansusharma12345@gmail.com',to, content)\n",
    "    server.close()\n",
    "    "
   ]
  },
  {
   "cell_type": "code",
   "execution_count": 21,
   "metadata": {},
   "outputs": [],
   "source": [
    "if __name__ == \"__main__\":\n",
    "    wishMe()\n",
    "#    takeCommand()\n",
    "    "
   ]
  },
  {
   "cell_type": "code",
   "execution_count": 22,
   "metadata": {},
   "outputs": [
    {
     "name": "stdout",
     "output_type": "stream",
     "text": [
      "Listening...\n",
      "Recognizing...\n",
      "launch docker\n",
      "Listening...\n",
      "Recognizing...\n",
      "Say that again please...\n",
      "Listening...\n",
      "Recognizing...\n",
      "exit\n"
     ]
    }
   ],
   "source": [
    "while True:\n",
    "    query = takeCommand().lower()\n",
    "    \n",
    "    #Logic for executing tasks based on query\n",
    "    \n",
    "    if 'wikipedia' in query:\n",
    "        speak('searching Wikipedia...')\n",
    "        query = query.replace(\"wikipedia\",\"\")\n",
    "        results = wikipedia.summary(query, sentences=2)\n",
    "        speak(\"According to Wikipedia\")\n",
    "        print(results)\n",
    "        speak(results)\n",
    "        \n",
    "    \n",
    "    elif 'hello' in query:\n",
    "        speak('Hello sir!')\n",
    "        \n",
    "    elif 'how are you' in query:\n",
    "        speak('I am fine sir. Thank you for asking')\n",
    "        \n",
    "    elif 'who are you' in query:\n",
    "        speak('I am a AI virtual assiatant made by Mr. Aakash Sharma to make others life easier')\n",
    "        \n",
    "    elif 'open youtube' in query:\n",
    "        speak('opening youtube')\n",
    "        webbrowser.open(\"youtube.com\")\n",
    "        \n",
    "    elif 'open google' in query:\n",
    "        speak('opening google')\n",
    "        webbrowser.open(\"google.com\")\n",
    "        \n",
    "    elif 'open ganna' in query:\n",
    "        speak('opening ganna')\n",
    "        webbrowser.open(\"ganna.com\")\n",
    "        \n",
    "    elif 'play music' in query:\n",
    "        music_dir = ''\n",
    "        songs = os.listdir(music_dir)\n",
    "        print(songs)\n",
    "        os.startfile(os.path.join(music_dir,songs[0]))\n",
    "        \n",
    "    elif 'the time' in query:\n",
    "        strTime = datetime.datetime.now().strftime(\"%H:%M:%S\")\n",
    "        print(strTime)\n",
    "        speak(f\"Sir, the time is {strTime}\")\n",
    "        \n",
    "    elif 'virtualbox' in query:\n",
    "        speak('opening virtual box')\n",
    "        codePath = \"C:\\Program Files\\Oracle\\VirtualBox\\VirtualBox.exe\"\n",
    "        os.startfile(codePath)\n",
    "        \n",
    "    elif 'vlc' in query:\n",
    "        speak('opening VLC player')\n",
    "        coPath = \"C:\\Program Files\\VideoLAN\\VLC\\vlc.exe\"\n",
    "        os.startfile(coPath)\n",
    "        \n",
    "    elif 'email to aakash' in query:\n",
    "        try:\n",
    "            speak(\"What should I say?\")\n",
    "            content = takeCommand()\n",
    "            to = \"sharma1032000@gmail.com\"\n",
    "            sendEmail(to, content)\n",
    "            print(\"Email has been sent!\")\n",
    "            speak(\"Email has been sent!\")\n",
    "            \n",
    "        except Exception as e:\n",
    "            print(e)\n",
    "            speak(\"sorry my friend. Email cannot be sent right now!\")\n",
    "            \n",
    "    \n",
    "            \n",
    "    elif 'search' in query:\n",
    "        try: \n",
    "            from googlesearch import search \n",
    "            speak('searching is under process')\n",
    "        except ImportError:  \n",
    "            print(\"No module named 'google' found\") \n",
    "  \n",
    "        # to search \n",
    "     #   query = \"how can i change my password\"\n",
    "  \n",
    "        for j in search(query, tld=\"com\", num=10, stop=1, pause=2): \n",
    "            print(j)\n",
    "            speak('searching complate')\n",
    "            speak('showing result')\n",
    "            webbrowser.open(j)\n",
    "            break\n",
    "    \n",
    "    elif 'exit' in query:\n",
    "        speak(\"system shuting down! thanks for your time \")\n",
    "        break\n",
    "        \n",
    "    elif 'thank you' in query:\n",
    "        speak(\"your welcome. Is there anything I can do for you\")\n",
    "        break\n",
    "        \n",
    "    elif 'launch docker' in query:\n",
    "        speak(\"Launching docker\")\n",
    "        webbrowser.open(\"http://192.168.56.3/cgi-bin/do.py\")\n",
    "    \n",
    "    "
   ]
  },
  {
   "cell_type": "code",
   "execution_count": null,
   "metadata": {},
   "outputs": [],
   "source": []
  },
  {
   "cell_type": "code",
   "execution_count": null,
   "metadata": {},
   "outputs": [],
   "source": []
  },
  {
   "cell_type": "code",
   "execution_count": null,
   "metadata": {},
   "outputs": [],
   "source": []
  },
  {
   "cell_type": "code",
   "execution_count": null,
   "metadata": {},
   "outputs": [],
   "source": []
  },
  {
   "cell_type": "code",
   "execution_count": null,
   "metadata": {},
   "outputs": [],
   "source": []
  },
  {
   "cell_type": "code",
   "execution_count": null,
   "metadata": {},
   "outputs": [],
   "source": []
  },
  {
   "cell_type": "code",
   "execution_count": null,
   "metadata": {},
   "outputs": [],
   "source": []
  },
  {
   "cell_type": "code",
   "execution_count": null,
   "metadata": {},
   "outputs": [],
   "source": []
  },
  {
   "cell_type": "code",
   "execution_count": null,
   "metadata": {},
   "outputs": [],
   "source": []
  }
 ],
 "metadata": {
  "kernelspec": {
   "display_name": "Python 3",
   "language": "python",
   "name": "python3"
  },
  "language_info": {
   "codemirror_mode": {
    "name": "ipython",
    "version": 3
   },
   "file_extension": ".py",
   "mimetype": "text/x-python",
   "name": "python",
   "nbconvert_exporter": "python",
   "pygments_lexer": "ipython3",
   "version": "3.6.4"
  }
 },
 "nbformat": 4,
 "nbformat_minor": 2
}
